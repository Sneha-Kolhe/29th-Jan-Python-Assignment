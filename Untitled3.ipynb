{
 "cells": [
  {
   "cell_type": "markdown",
   "id": "3452b3ea-0363-4ea9-9ca0-a5420b32593b",
   "metadata": {},
   "source": [
    "## Q1.who generate Python programming language?"
   ]
  },
  {
   "cell_type": "code",
   "execution_count": null,
   "id": "0154eb4c-f172-4739-a96d-6517e2c589fe",
   "metadata": {},
   "outputs": [],
   "source": [
    "Python programming language was created by Guido van Rossum. He started working on Python in the late 1980s, and the first version of Python, Python 0.9.0, was released in February 1991. Guido van Rossum continued to lead Python's development for many years and is widely regarded as the benevolent dictator for life (BDFL) of the Python community. While Guido van Rossum stepped down from his role as the BDFL in 2018, he remains highly influential in the Python community. The Python Software Foundation (PSF) now oversees the development and promotion of Python, with contributions from a global community of developers.\n",
    "\n",
    "\n",
    "\n",
    "\n",
    "\n"
   ]
  },
  {
   "cell_type": "markdown",
   "id": "982bcf63-e0a6-442f-86b7-24fdae88ef26",
   "metadata": {},
   "source": [
    "## Q2.Which Type of Programming does python support?\n"
   ]
  },
  {
   "cell_type": "code",
   "execution_count": null,
   "id": "3e8ebbbc-d1ed-47e9-9006-4f6b20aaf180",
   "metadata": {},
   "outputs": [],
   "source": [
    "Python supports multiple programming paradigms, making it a versatile and flexible language. Some of the primary programming paradigms supported by Python include:\n",
    "\n",
    "Imperative Programming: Python supports imperative programming, where statements are used to change a program's state. It allows developers to specify sequences of commands that the computer executes.\n",
    "\n",
    "Procedural Programming: Python supports procedural programming, where programs are organized as a series of functions or procedures. Functions in Python allow developers to group code into reusable blocks, promoting modularity and code reusability.\n",
    "\n",
    "Object-Oriented Programming (OOP): Python is a powerful object-oriented programming language. It supports the creation and manipulation of objects, encapsulation, inheritance, and polymorphism, allowing developers to model real-world entities using classes and objects.\n",
    "\n",
    "Functional Programming: Python supports functional programming concepts, including higher-order functions, anonymous functions (lambda functions), and the ability to treat functions as first-class citizens. Functional programming promotes the use of immutable data structures and avoids side effects, leading to more concise and maintainable code.\n",
    "\n",
    "Aspect-Oriented Programming (AOP): While not natively supported, Python can be used for aspect-oriented programming through third-party libraries such as AspectLib and PyAspects. AOP allows developers to modularize cross-cutting concerns, such as logging and error handling, improving code modularity and maintainability.\n",
    "\n",
    "Event-Driven Programming: Python supports event-driven programming, where the flow of the program is determined by events such as user input, sensor output, or system notifications. Libraries like Tkinter, PyQt, and asyncio facilitate event-driven programming in Python.\n",
    "\n",
    "Concurrent Programming: Python provides features for concurrent programming, allowing developers to write programs that execute multiple tasks concurrently. The threading and multiprocessing modules support concurrent programming through threads and processes, respectively.\n",
    "\n",
    "Overall, Python's support for multiple programming paradigms makes it suitable for a wide range of applications, from web development and scientific computing to artificial intelligence and data analysis."
   ]
  },
  {
   "cell_type": "markdown",
   "id": "5a82250d-ade0-4305-845b-e0a304264e12",
   "metadata": {},
   "source": [
    "## Q3.Is python case sensitive when dealing with python?"
   ]
  },
  {
   "cell_type": "code",
   "execution_count": null,
   "id": "d9b88fd5-62d5-4948-8167-8534a4a7ece6",
   "metadata": {},
   "outputs": [],
   "source": [
    "Yes, Python is case-sensitive when dealing with identifiers such as variable names, function names, class names, and module names. This means that Python distinguishes between uppercase and lowercase letters in identifiers.\n",
    "\n",
    "For example, the variable names my_variable, My_Variable, and MY_VARIABLE would be considered as three distinct variables in Python."
   ]
  },
  {
   "cell_type": "markdown",
   "id": "e330eb85-b931-4e37-8075-33764dd97571",
   "metadata": {},
   "source": [
    "\n",
    "## Q4. What is the correct Extension of python file?"
   ]
  },
  {
   "cell_type": "code",
   "execution_count": null,
   "id": "fed8eb5a-b5a3-4103-b2c8-8913073f6c12",
   "metadata": {},
   "outputs": [],
   "source": [
    "The correct extension for Python files is .py.\n",
    "\n",
    "For example:\n",
    "\n",
    "A Python script file might be named script.py.\n",
    "A Python module file might be named module.py.\n",
    "A Python package directory might contain an __init__.py file.\n",
    "Using the .py extension helps to identify Python source code files and allows Python interpreters to recognize and execute them properly."
   ]
  },
  {
   "cell_type": "code",
   "execution_count": null,
   "id": "2e3e2150-0a12-4e62-aa0e-43344a5c6c32",
   "metadata": {},
   "outputs": [],
   "source": [
    "\n",
    "Q5.is Python code compile or interpreted?\n",
    "\n",
    "Python code is interpreted rather than compiled. When you run a Python script or interact with a Python interpreter, the Python source code is translated into bytecode by the Python interpreter and then executed by the Python Virtual Machine (PVM) line by line.\n",
    "\n",
    "Here's how the process works:\n",
    "\n",
    "Parsing: The Python interpreter parses the source code to check its syntax and convert it into an abstract syntax tree (AST).\n",
    "\n",
    "Compilation: The AST is then compiled into bytecode instructions, which are lower-level instructions that the Python Virtual Machine (PVM) can execute.\n",
    "\n",
    "Execution: The PVM executes the bytecode instructions one by one, interpreting and executing them to produce the desired output.\n",
    "\n",
    "Because Python code is interpreted, you can run Python programs without the need for explicit compilation steps like in languages such as C or C++. This makes Python a dynamically typed and dynamically interpreted language, allowing for quick development and prototyping. However, it's worth noting that Python implementations like PyPy and Nuitka can compile Python code to native machine code for improved performance in certain cases."
   ]
  },
  {
   "cell_type": "markdown",
   "id": "5e35651c-5041-463e-8a94-2cdb5fded5b4",
   "metadata": {},
   "source": [
    "##Q6.Name a few block of code is to define a python language?"
   ]
  },
  {
   "cell_type": "code",
   "execution_count": null,
   "id": "e07a6ba2-229d-4f2d-8596-2610041b3f9a",
   "metadata": {},
   "outputs": [],
   "source": [
    "Function Definition:\n",
    "    Class Definition:\n",
    "        Conditional Statements (if, elif, else):\n",
    "            Looping Structures (for, while):\n",
    "                Exception Handling (try, except, finally):\n",
    "                    Context Managers (with statement):\n",
    "                    List Comprehensions:\n",
    "                        Lambda Functions:"
   ]
  },
  {
   "cell_type": "markdown",
   "id": "3f1f4a99-8216-4e9c-9e3c-8a421a41adb5",
   "metadata": {},
   "source": [
    "## Q7.State a character used to single line comments in python ?"
   ]
  },
  {
   "cell_type": "code",
   "execution_count": null,
   "id": "333f021b-fc39-43d6-b6c7-87de9fa82e40",
   "metadata": {},
   "outputs": [],
   "source": [
    "In Python, the character used to denote a single-line comment is the hash symbol (#).\n",
    "\n",
    "For example:\n",
    "\n",
    "python\n",
    "Copy code\n",
    "# This is a single-line comment\n",
    "print(\"Hello, world!\")  # This is also a comment\n",
    "Anything written after the # symbol on a line is considered a comment and is ignored by the Python interpreter. Comments are useful for providing explanations, documentation, or annotations within the code. They help improve code readability and maintainability by providing context to other developers."
   ]
  },
  {
   "cell_type": "code",
   "execution_count": null,
   "id": "9908fae8-4439-42c0-8f1d-69a52103fd22",
   "metadata": {},
   "outputs": [],
   "source": []
  }
 ],
 "metadata": {
  "kernelspec": {
   "display_name": "Python 3 (ipykernel)",
   "language": "python",
   "name": "python3"
  },
  "language_info": {
   "codemirror_mode": {
    "name": "ipython",
    "version": 3
   },
   "file_extension": ".py",
   "mimetype": "text/x-python",
   "name": "python",
   "nbconvert_exporter": "python",
   "pygments_lexer": "ipython3",
   "version": "3.10.8"
  }
 },
 "nbformat": 4,
 "nbformat_minor": 5
}
